{
 "cells": [
  {
   "cell_type": "markdown",
   "id": "0e266724-e081-4ad4-a8c5-aeb2bcec2ee8",
   "metadata": {},
   "source": [
    "# LArPix v2b field response simulation\n",
    "Author: Jiangmei Yang;\n",
    "Contact: jyangdr@connect.ust.hk"
   ]
  },
  {
   "cell_type": "code",
   "execution_count": 20,
   "id": "1a778938-20a2-44fc-be8a-9288700a4946",
   "metadata": {
    "scrolled": true
   },
   "outputs": [],
   "source": [
    "import ROOT as r\n",
    "import Garfield as g\n",
    "import numpy as np\n",
    "import matplotlib.pyplot as plt"
   ]
  },
  {
   "cell_type": "markdown",
   "id": "a7697345-1833-482d-aa71-8b17fae38466",
   "metadata": {},
   "source": [
    "## Define the medium"
   ]
  },
  {
   "cell_type": "code",
   "execution_count": 2,
   "id": "6c96c752-067c-42ce-90c7-a050bd21ba08",
   "metadata": {},
   "outputs": [],
   "source": [
    "lar = r.Garfield.Medium()\n",
    "lar.SetTemperature(87.17) # Set the Temperature [K]\n",
    "lar.EnableDrift() # Allow for drifting in this medium\n",
    "# Set the detector boundary\n",
    "ext_x = 2; \n",
    "ext_y = 2;\n",
    "ext_z = 31;"
   ]
  },
  {
   "cell_type": "markdown",
   "id": "1bf9b9ae-83a1-4180-b255-85da0b88c5a3",
   "metadata": {},
   "source": [
    "## Electron Mobility in LAr"
   ]
  },
  {
   "cell_type": "code",
   "execution_count": 3,
   "id": "4e83de02-0130-493e-a553-5e776eaebfb9",
   "metadata": {},
   "outputs": [],
   "source": [
    "# Electric charge [Q]\n",
    "\n",
    "e = 1. # electron charge\n",
    "e_SI = -1.60217733e-19 # electron charge in coulomb\n",
    "coulomb = e/e_SI # coulomb = 6.24150 e+18 * e\n",
    "\n",
    "# Energy [E]\n",
    "\n",
    "megaelectronvolt = 1.\n",
    "\n",
    "# Electric potential [E][Q^-1]\n",
    "\n",
    "megavolt = megaelectronvolt / e\n",
    "kilovolt = 1.e-3 * megavolt\n",
    "volt = 1.e-6 * megavolt\n",
    "millivolt = 1.e-3 * volt\n",
    "\n",
    "V = volt\n",
    "mV = millivolt\n",
    "kV = kilovolt"
   ]
  },
  {
   "cell_type": "code",
   "execution_count": 4,
   "id": "888da9b3-b7ad-4c67-a9ef-63c91387bae2",
   "metadata": {},
   "outputs": [],
   "source": [
    "ELECTRON_MOBILITY_PARAMS = 551.6, 7158.3, 4440.43, 4.29, 43.63, 0.2053"
   ]
  },
  {
   "cell_type": "code",
   "execution_count": 5,
   "id": "a3eb0cdc-56c5-4ec6-80ee-ecacf3c02056",
   "metadata": {},
   "outputs": [],
   "source": [
    "def electron_mobility(efield, temperature):\n",
    "    \"\"\"\n",
    "    Calculation of the electron mobility w.r.t temperature and electric\n",
    "    field.\n",
    "    References:\n",
    "     - https://lar.bnl.gov/properties/trans.html (summary)\n",
    "     - https://doi.org/10.1016/j.nima.2016.01.073 (parameterization)\n",
    "     \n",
    "    Args:\n",
    "        efield (float): electric field in kV/cm\n",
    "        temperature (float): temperature\n",
    "        \n",
    "    Returns:\n",
    "        float: electron mobility in cm^2/kV/us\n",
    "\n",
    "    \"\"\"\n",
    "    a0, a1, a2, a3, a4, a5 = ELECTRON_MOBILITY_PARAMS\n",
    "\n",
    "    num = a0 + a1 * efield + a2 * pow(efield, 1.5) + a3 * pow(efield, 2.5)\n",
    "    denom = 1 + (a1 / a0) * efield + a4 * pow(efield, 2) + a5 * pow(efield, 3)\n",
    "    temp_corr = pow(temperature / 89, -1.5)\n",
    "\n",
    "    mu = num / denom * temp_corr * V / kV\n",
    "\n",
    "    return mu"
   ]
  },
  {
   "cell_type": "code",
   "execution_count": 6,
   "id": "84494d85-992d-486e-acff-c712ee94eaff",
   "metadata": {},
   "outputs": [],
   "source": [
    "ef = range(10,10000,10)\n",
    "bf = [0]\n",
    "an = [0]\n",
    "lar.SetFieldGrid(ef,bf,an)"
   ]
  },
  {
   "cell_type": "code",
   "execution_count": 7,
   "id": "8422478a-e02b-417c-94f4-ab4e2acb0123",
   "metadata": {},
   "outputs": [],
   "source": [
    "for i in range(len(ef)):\n",
    "    lar.SetElectronVelocityE(i,0,0,electron_mobility(ef[i]/1000,87.17)*(ef[i]/1000)/1000)"
   ]
  },
  {
   "cell_type": "code",
   "execution_count": 8,
   "id": "3a86b8bc-23ad-46aa-a45c-2b52d0127d69",
   "metadata": {},
   "outputs": [
    {
     "data": {
      "image/png": "[encoded data removed]",
      "text/plain": [
       "<IPython.core.display.Image object>"
      ]
     },
     "metadata": {},
     "output_type": "display_data"
    }
   ],
   "source": [
    "view = r.Garfield.ViewMedium()\n",
    "view.SetMedium(lar)\n",
    "ce = r.TCanvas()\n",
    "view.SetCanvas(ce)\n",
    "view.PlotElectronVelocity('e')\n",
    "ce.Draw()"
   ]
  },
  {
   "cell_type": "markdown",
   "id": "bb07aaed-441f-4973-9c4d-5d504afa0bae",
   "metadata": {},
   "source": [
    "## Import an Elmer-created volume"
   ]
  },
  {
   "cell_type": "code",
   "execution_count": 9,
   "id": "4ae2412f-6d9f-4f2b-9ad5-7a72a681cef1",
   "metadata": {
    "scrolled": true
   },
   "outputs": [
    {
     "name": "stdout",
     "output_type": "stream",
     "text": [
      "ComponentElmer::Initialise:\n",
      "    Read 3175415 nodes and 2332783 elements from file 9x9pixel_43um_31cm_response_v2b/mesh.header.\n",
      "    Read potentials from file 9x9pixel_43um_31cm_response_v2b/9x9pixel_43um_31cm_response_v2b.result.\n",
      "    Set material 0 of 83 to eps 1e+10.\n",
      "    Set material 1 of 83 to eps 1e+10.\n",
      "    Set material 2 of 83 to eps 1e+10.\n",
      "    Set material 3 of 83 to eps 1e+10.\n",
      "    Set material 4 of 83 to eps 1e+10.\n",
      "    Set material 5 of 83 to eps 1e+10.\n",
      "    Set material 6 of 83 to eps 1e+10.\n",
      "    Set material 7 of 83 to eps 1e+10.\n",
      "    Set material 8 of 83 to eps 1e+10.\n",
      "    Set material 9 of 83 to eps 1e+10.\n",
      "    Set material 10 of 83 to eps 1e+10.\n",
      "    Set material 11 of 83 to eps 1e+10.\n",
      "    Set material 12 of 83 to eps 1e+10.\n",
      "    Set material 13 of 83 to eps 1e+10.\n",
      "    Set material 14 of 83 to eps 1e+10.\n",
      "    Set material 15 of 83 to eps 1e+10.\n",
      "    Set material 16 of 83 to eps 1e+10.\n",
      "    Set material 17 of 83 to eps 1e+10.\n",
      "    Set material 18 of 83 to eps 1e+10.\n",
      "    Set material 19 of 83 to eps 1e+10.\n",
      "    Set material 20 of 83 to eps 1e+10.\n",
      "    Set material 21 of 83 to eps 1e+10.\n",
      "    Set material 22 of 83 to eps 1e+10.\n",
      "    Set material 23 of 83 to eps 1e+10.\n",
      "    Set material 24 of 83 to eps 1e+10.\n",
      "    Set material 25 of 83 to eps 1e+10.\n",
      "    Set material 26 of 83 to eps 1e+10.\n",
      "    Set material 27 of 83 to eps 1e+10.\n",
      "    Set material 28 of 83 to eps 1e+10.\n",
      "    Set material 29 of 83 to eps 1e+10.\n",
      "    Set material 30 of 83 to eps 1e+10.\n",
      "    Set material 31 of 83 to eps 1e+10.\n",
      "    Set material 32 of 83 to eps 1e+10.\n",
      "    Set material 33 of 83 to eps 1e+10.\n",
      "    Set material 34 of 83 to eps 1e+10.\n",
      "    Set material 35 of 83 to eps 1e+10.\n",
      "    Set material 36 of 83 to eps 1e+10.\n",
      "    Set material 37 of 83 to eps 1e+10.\n",
      "    Set material 38 of 83 to eps 1e+10.\n",
      "    Set material 39 of 83 to eps 1e+10.\n",
      "    Set material 40 of 83 to eps 1e+10.\n",
      "    Set material 41 of 83 to eps 1e+10.\n",
      "    Set material 42 of 83 to eps 1e+10.\n",
      "    Set material 43 of 83 to eps 1e+10.\n",
      "    Set material 44 of 83 to eps 1e+10.\n",
      "    Set material 45 of 83 to eps 1e+10.\n",
      "    Set material 46 of 83 to eps 1e+10.\n",
      "    Set material 47 of 83 to eps 1e+10.\n",
      "    Set material 48 of 83 to eps 1e+10.\n",
      "    Set material 49 of 83 to eps 1e+10.\n",
      "    Set material 50 of 83 to eps 1e+10.\n",
      "    Set material 51 of 83 to eps 1e+10.\n",
      "    Set material 52 of 83 to eps 1e+10.\n",
      "    Set material 53 of 83 to eps 1e+10.\n",
      "    Set material 54 of 83 to eps 1e+10.\n",
      "    Set material 55 of 83 to eps 1e+10.\n",
      "    Set material 56 of 83 to eps 1e+10.\n",
      "    Set material 57 of 83 to eps 1e+10.\n",
      "    Set material 58 of 83 to eps 1e+10.\n",
      "    Set material 59 of 83 to eps 1e+10.\n",
      "    Set material 60 of 83 to eps 1e+10.\n",
      "    Set material 61 of 83 to eps 1e+10.\n",
      "    Set material 62 of 83 to eps 1e+10.\n",
      "    Set material 63 of 83 to eps 1e+10.\n",
      "    Set material 64 of 83 to eps 1e+10.\n",
      "    Set material 65 of 83 to eps 1e+10.\n",
      "    Set material 66 of 83 to eps 1e+10.\n",
      "    Set material 67 of 83 to eps 1e+10.\n",
      "    Set material 68 of 83 to eps 1e+10.\n",
      "    Set material 69 of 83 to eps 1e+10.\n",
      "    Set material 70 of 83 to eps 1e+10.\n",
      "    Set material 71 of 83 to eps 1e+10.\n",
      "    Set material 72 of 83 to eps 1e+10.\n",
      "    Set material 73 of 83 to eps 1e+10.\n",
      "    Set material 74 of 83 to eps 1e+10.\n",
      "    Set material 75 of 83 to eps 1e+10.\n",
      "    Set material 76 of 83 to eps 1e+10.\n",
      "    Set material 77 of 83 to eps 1e+10.\n",
      "    Set material 78 of 83 to eps 1e+10.\n",
      "    Set material 79 of 83 to eps 1e+10.\n",
      "    Set material 80 of 83 to eps 1e+10.\n",
      "    Set material 81 of 83 to eps 1.53.\n",
      "    Set material 82 of 83 to eps 4.4.\n",
      "ComponentElmer::Initialise: Finished.\n",
      "ComponentElmer::Prepare:\n",
      "    Caching the bounding boxes of all elements... done.\n",
      "    Initialized tetrahedral tree.\n"
     ]
    }
   ],
   "source": [
    "elm=r.Garfield.ComponentElmer(\"9x9pixel_43um_31cm_response_v2b/mesh.header\",\"9x9pixel_43um_31cm_response_v2b/mesh.elements\",\"9x9pixel_43um_31cm_response_v2b/mesh.nodes\",\n",
    "    \"dielectrics.dat\",\"9x9pixel_43um_31cm_response_v2b/9x9pixel_43um_31cm_response_v2b.result\",\"cm\")"
   ]
  },
  {
   "cell_type": "code",
   "execution_count": 10,
   "id": "1116f10e-3f7f-4770-8f60-988b249ae33b",
   "metadata": {},
   "outputs": [
    {
     "data": {
      "text/plain": [
       "True"
      ]
     },
     "execution_count": 10,
     "metadata": {},
     "output_type": "execute_result"
    },
    {
     "name": "stdout",
     "output_type": "stream",
     "text": [
      "ComponentElmer::SetWeightingField:\n",
      "    Loading field map for electrode readout.\n",
      "    Read potentials from file 9x9pixel_43um_31cm_response_v2b/9x9pixel_43um_31cm_response_v2b_weight.result.\n"
     ]
    }
   ],
   "source": [
    "elm.SetMedium(81,lar)\n",
    "elm.SetWeightingField(\"9x9pixel_43um_31cm_response_v2b/9x9pixel_43um_31cm_response_v2b_weight.result\",\"readout\")"
   ]
  },
  {
   "cell_type": "markdown",
   "id": "8a1b5ec2-c986-4ca9-97bd-c31d95849a93",
   "metadata": {},
   "source": [
    "## Set up a sensor object"
   ]
  },
  {
   "cell_type": "code",
   "execution_count": 11,
   "id": "5e15a828-998f-4c64-8fac-4980189afdfe",
   "metadata": {},
   "outputs": [
    {
     "name": "stdout",
     "output_type": "stream",
     "text": [
      "Sensor::AddElectrode:\n",
      "    Added readout electrode \"readout\".\n",
      "    All signals are reset.\n"
     ]
    }
   ],
   "source": [
    "sensor=r.Garfield.Sensor()\n",
    "sensor.AddComponent(elm)\n",
    "sensor.SetArea(-ext_x,-ext_y,-ext_z,ext_x,ext_y,ext_z)\n",
    "sensor.AddElectrode(elm,\"readout\")"
   ]
  },
  {
   "cell_type": "markdown",
   "id": "5269064e-2fc5-4dbf-a7b8-4f6e9c92ded6",
   "metadata": {},
   "source": [
    "## Set up the object for field visualization"
   ]
  },
  {
   "cell_type": "markdown",
   "id": "7358300f-94d3-452a-afb1-f62559916dcb",
   "metadata": {},
   "source": [
    "## View Electric Potential "
   ]
  },
  {
   "cell_type": "code",
   "execution_count": 12,
   "id": "57c33071-d207-4e26-9fb0-bf8500abd7fc",
   "metadata": {},
   "outputs": [
    {
     "data": {
      "image/png": "[encoded data removed]",
      "text/plain": [
       "<IPython.core.display.Image object>"
      ]
     },
     "metadata": {},
     "output_type": "display_data"
    }
   ],
   "source": [
    "c1 = r.TCanvas();\n",
    "vf = r.Garfield.ViewField();\n",
    "vf.SetSensor(sensor);\n",
    "vf.SetCanvas(c1);\n",
    "# Here I zoom in to see z <=1 cm\n",
    "# Can show the field non-uniform in the near field around pixels\n",
    "vf.SetArea(-ext_x,-0.05,ext_x,1); \n",
    "vf.SetNumberOfContours(20);\n",
    "vf.SetNumberOfSamples2d(30,30);\n",
    "vf.SetPlane(0,-1,0,0,0,0);\n",
    "vf.PlotContour(\"v\");\n",
    "vFE =r.Garfield.ViewFEMesh();\n",
    "vFE.SetCanvas(c1);\n",
    "vFE.SetComponent(elm);\n",
    "vFE.SetPlane(0,-1,0,0,0,0);\n",
    "vFE.SetFillMesh(True);\n",
    "vFE.SetColor(0,r.kBlue); # Readout Pixel\n",
    "vFE.SetColor(82,r.kGreen+3);\n",
    "vFE.SetArea(-ext_x,-ext_y,-ext_z,ext_x,ext_y,ext_z);\n",
    "vf.PlotContour(\"v\");\n",
    "vFE.Plot(True)\n",
    "c1.Draw();"
   ]
  },
  {
   "cell_type": "markdown",
   "id": "faab2d25-9280-41da-ab3b-bd69c0c3abba",
   "metadata": {},
   "source": [
    "## View Weighting Potential"
   ]
  },
  {
   "cell_type": "code",
   "execution_count": 13,
   "id": "2e61b459-d656-4af1-88e2-a9e23331ae32",
   "metadata": {},
   "outputs": [
    {
     "data": {
      "image/png": "[encoded data removed]",
      "text/plain": [
       "<IPython.core.display.Image object>"
      ]
     },
     "metadata": {},
     "output_type": "display_data"
    }
   ],
   "source": [
    "c2 = r.TCanvas();\n",
    "vf_w = r.Garfield.ViewField();\n",
    "vf_w.SetSensor(sensor);\n",
    "vf_w.SetCanvas(c2);\n",
    "# To see the weighting potential around the readout pixel\n",
    "vf_w.SetArea(-ext_x,-0.05,ext_x,1); \n",
    "vf_w.SetNumberOfContours(20);\n",
    "vf_w.SetNumberOfSamples2d(500,500);\n",
    "vf_w.SetPlane(0,-1,0,0,0,0);\n",
    "vf_w.PlotContourWeightingField(\"readout\", \"v\");\n",
    "vFE.SetCanvas(c2);\n",
    "vFE.Plot(True);\n",
    "c2.Draw();"
   ]
  },
  {
   "cell_type": "markdown",
   "id": "1072de45-fd6e-4243-afe1-c5e5de8d8455",
   "metadata": {},
   "source": [
    "## Generate induced current\n",
    "### Create drift object"
   ]
  },
  {
   "cell_type": "code",
   "execution_count": 14,
   "id": "302f37b2-4652-4955-9b53-f5692e0da449",
   "metadata": {},
   "outputs": [
    {
     "name": "stdout",
     "output_type": "stream",
     "text": [
      "Sensor::SetTimeWindow: Resetting all signals.\n"
     ]
    }
   ],
   "source": [
    "tmin=0\n",
    "tmax = 200000\n",
    "tstep=50\n",
    "nTimeBins = int((tmax-tmin)/tstep)\n",
    "sensor.SetTimeWindow(tmin,tstep,nTimeBins)\n",
    "drift_length = 304.31/10 # [cm] drift length from larnd-sim yaml \n",
    "\n",
    "drifte = r.Garfield.AvalancheMC();\n",
    "drifte.SetSensor(sensor)\n",
    "drifte.DisableDiffusion()\n",
    "drifte.DisableAttachment()\n",
    "drifte.SetTimeSteps(tstep)\n",
    "\n",
    "cD=r.TCanvas('cD','',600,600)\n",
    "vFE =r.Garfield.ViewFEMesh();\n",
    "vFE.SetCanvas(cD);\n",
    "vFE.SetComponent(elm);\n",
    "vFE.SetArea(-ext_x,-ext_y,-ext_z,ext_x,ext_y,ext_z)\n",
    "vFE.SetPlane(0,-1,0,0,0,0);\n",
    "vFE.SetFillMesh(True);\n",
    "vFE.SetColor(0,r.kBlue);\n",
    "vFE.SetColor(82,r.kGreen+3);\n",
    "\n",
    "viewDrift = r.Garfield.ViewDrift()\n",
    "viewDrift.SetArea(-ext_x,-ext_y,-0.05,ext_x,ext_y,1)\n",
    "viewDrift.SetCanvas(cD);\n",
    "viewDrift.SetPlane(0,-1,0,0,0,0);\n",
    "drifte.EnablePlotting(viewDrift)"
   ]
  },
  {
   "cell_type": "markdown",
   "id": "9f52d167-73c7-4bd1-9576-b9e63d57d65f",
   "metadata": {},
   "source": [
    "### Drift a single electron"
   ]
  },
  {
   "cell_type": "code",
   "execution_count": 15,
   "id": "8a3d33c2-0f67-4b77-a982-60fc5831d0f8",
   "metadata": {},
   "outputs": [
    {
     "data": {
      "text/plain": [
       "True"
      ]
     },
     "execution_count": 15,
     "metadata": {},
     "output_type": "execute_result"
    }
   ],
   "source": [
    "drifte.DriftElectron(0,0,drift_length,0)"
   ]
  },
  {
   "cell_type": "markdown",
   "id": "133b91b5-6c68-4286-8495-8b92f11e7cf9",
   "metadata": {},
   "source": [
    "### View drift path"
   ]
  },
  {
   "cell_type": "code",
   "execution_count": 16,
   "id": "50a02356-904f-46f0-a24d-5ac7a566cd0c",
   "metadata": {},
   "outputs": [
    {
     "data": {
      "image/png": "[encoded data removed]",
      "text/plain": [
       "<IPython.core.display.Image object>"
      ]
     },
     "metadata": {},
     "output_type": "display_data"
    }
   ],
   "source": [
    "viewDrift.Plot(True)\n",
    "vFE.Plot(True)\n",
    "cD.Draw()"
   ]
  },
  {
   "cell_type": "markdown",
   "id": "c45d0e45-64cf-4212-a6db-ad7ac4553f07",
   "metadata": {},
   "source": [
    "### Plot induced current"
   ]
  },
  {
   "cell_type": "code",
   "execution_count": 17,
   "id": "a782a005-1a72-424d-b9a7-0074a4b761c1",
   "metadata": {},
   "outputs": [
    {
     "data": {
      "image/png": "[encoded data removed]",
      "text/plain": [
       "<IPython.core.display.Image object>"
      ]
     },
     "metadata": {},
     "output_type": "display_data"
    }
   ],
   "source": [
    "cSignal = r.TCanvas(\"signal\",\"Signal\")\n",
    "vSignal = r.Garfield.ViewSignal()\n",
    "vSignal.SetSensor(sensor)\n",
    "vSignal.SetCanvas(cSignal)\n",
    "vSignal.PlotSignal(\"readout\")\n",
    "cSignal.Draw()"
   ]
  },
  {
   "cell_type": "markdown",
   "id": "a9761f40-f253-4121-9a2e-32652fedd9ca",
   "metadata": {},
   "source": [
    "### LArPix samples the integrated charge"
   ]
  },
  {
   "cell_type": "code",
   "execution_count": 18,
   "id": "6fe08db9-6587-4151-97f5-5f54493b54ae",
   "metadata": {},
   "outputs": [],
   "source": [
    "induce_s=[]\n",
    "induce_t = np.arange(tmin,tmax,tstep)\n",
    "for j in range(nTimeBins):\n",
    "    induce_s.append(sensor.GetSignal(\"readout\",j))\n",
    "induce_s = np.array(induce_s)\n",
    "induce_c = induce_s*tstep*1e-15/(-1.60217733e-19)\n",
    "integrated_c = np.cumsum(induce_c)"
   ]
  },
  {
   "cell_type": "code",
   "execution_count": 19,
   "id": "1e7a0e8f-9dd6-4ac4-9cde-09c303b83e57",
   "metadata": {},
   "outputs": [
    {
     "data": {
      "text/plain": [
       "Text(0, 0.5, 'Integrated Charge [e-]')"
      ]
     },
     "execution_count": 19,
     "metadata": {},
     "output_type": "execute_result"
    },
    {
     "data": {
      "image/png": "[encoded data removed]",
      "text/plain": [
       "<Figure size 640x480 with 1 Axes>"
      ]
     },
     "metadata": {},
     "output_type": "display_data"
    }
   ],
   "source": [
    "plt.plot(induce_t/1000,integrated_c)\n",
    "plt.xlabel(\"Time [us]\")\n",
    "plt.ylabel(\"Integrated Charge [e-]\")"
   ]
  },
  {
   "cell_type": "code",
   "execution_count": null,
   "id": "3c8c2c33",
   "metadata": {},
   "outputs": [],
   "source": []
  }
 ],
 "metadata": {
  "kernelspec": {
   "display_name": "Python 3 (ipykernel)",
   "language": "python",
   "name": "python3"
  },
  "language_info": {
   "codemirror_mode": {
    "name": "ipython",
    "version": 3
   },
   "file_extension": ".py",
   "mimetype": "text/x-python",
   "name": "python",
   "nbconvert_exporter": "python",
   "pygments_lexer": "ipython3",
   "version": "3.11.6"
  }
 },
 "nbformat": 4,
 "nbformat_minor": 5
}
